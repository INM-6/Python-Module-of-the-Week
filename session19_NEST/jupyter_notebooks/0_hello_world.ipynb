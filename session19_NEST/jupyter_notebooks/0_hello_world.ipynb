{
 "cells": [
  {
   "cell_type": "markdown",
   "metadata": {
    "slideshow": {
     "slide_type": "slide"
    }
   },
   "source": [
    "# PyNEST - Hello World!"
   ]
  },
  {
   "cell_type": "markdown",
   "metadata": {
    "slideshow": {
     "slide_type": "-"
    }
   },
   "source": [
    "**Modeling networks of spiking neurons using NEST**\n",
    "\n",
    "**EITN spring school 2019, 11.04.2019**\n",
    "\n",
    "**[Alexander van Meegen](mailto:a.van.meegen@fz-juelich.de)**"
   ]
  },
  {
   "cell_type": "markdown",
   "metadata": {
    "slideshow": {
     "slide_type": "subslide"
    }
   },
   "source": [
    "This is a basic 'Hello World!' example. Enjoy!"
   ]
  },
  {
   "cell_type": "code",
   "execution_count": null,
   "metadata": {
    "slideshow": {
     "slide_type": "subslide"
    }
   },
   "outputs": [],
   "source": [
    "%pylab inline\n",
    "import nest\n",
    "import nest.voltage_trace\n",
    "nest.ResetKernel()"
   ]
  },
  {
   "cell_type": "code",
   "execution_count": null,
   "metadata": {
    "slideshow": {
     "slide_type": "-"
    }
   },
   "outputs": [],
   "source": [
    "neuron = nest.Create('iaf_psc_exp')\n",
    "spikegenerator = nest.Create('spike_generator')\n",
    "nest.SetStatus(spikegenerator, {'spike_times': [10., 50.]})\n",
    "voltmeter = nest.Create('voltmeter')\n",
    "nest.Connect(spikegenerator, neuron, syn_spec={'weight': 1e3})\n",
    "nest.Connect(voltmeter, neuron)\n",
    "nest.Simulate(100.)"
   ]
  },
  {
   "cell_type": "code",
   "execution_count": null,
   "metadata": {
    "slideshow": {
     "slide_type": "-"
    }
   },
   "outputs": [],
   "source": [
    "nest.voltage_trace.from_device(voltmeter)"
   ]
  }
 ],
 "metadata": {
  "kernelspec": {
   "display_name": "Python 3",
   "language": "python",
   "name": "python3"
  },
  "language_info": {
   "codemirror_mode": {
    "name": "ipython",
    "version": 3
   },
   "file_extension": ".py",
   "mimetype": "text/x-python",
   "name": "python",
   "nbconvert_exporter": "python",
   "pygments_lexer": "ipython3",
   "version": "3.5.2"
  }
 },
 "nbformat": 4,
 "nbformat_minor": 2
}
