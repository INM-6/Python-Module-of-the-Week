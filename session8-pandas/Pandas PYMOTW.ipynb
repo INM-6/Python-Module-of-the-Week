{
 "cells": [
  {
   "cell_type": "markdown",
   "metadata": {},
   "source": [
    "## PANDAS ARE AWESOME "
   ]
  },
  {
   "cell_type": "markdown",
   "metadata": {},
   "source": [
    "<img src=\"https://i.imgur.com/vxKOi.gif\" width=\"1200\" height=\"1200\">"
   ]
  },
  {
   "cell_type": "markdown",
   "metadata": {},
   "source": [
    "<a href=\"https://s3.amazonaws.com/assets.datacamp.com/blog_assets/PandasPythonForDataScience.pdf\">Download File (PDF)</a>\n"
   ]
  },
  {
   "cell_type": "code",
   "execution_count": 1,
   "metadata": {
    "collapsed": true
   },
   "outputs": [],
   "source": [
    "import pandas as pd\n",
    "import seaborn as sns\n",
    "import numpy as np\n",
    "import matplotlib.pyplot as plt\n",
    "%matplotlib inline"
   ]
  },
  {
   "cell_type": "markdown",
   "metadata": {},
   "source": [
    "### Load Data from standard formats"
   ]
  },
  {
   "cell_type": "code",
   "execution_count": 42,
   "metadata": {},
   "outputs": [
    {
     "name": "stdout",
     "output_type": "stream",
     "text": [
      "<class 'pandas.core.frame.DataFrame'>\n",
      "Int64Index: 7734 entries, 0 to 999\n",
      "Data columns (total 33 columns):\n",
      "amp           7734 non-null int64\n",
      "ch. 1         7734 non-null float64\n",
      "ch. 10        7734 non-null float64\n",
      "ch. 2         7734 non-null float64\n",
      "ch. 3         7734 non-null float64\n",
      "ch. 4         7734 non-null float64\n",
      "ch. 5         7734 non-null float64\n",
      "ch. 6         7734 non-null float64\n",
      "ch. 7         7734 non-null float64\n",
      "ch. 8         7734 non-null float64\n",
      "ch. 9         7734 non-null float64\n",
      "ch. max       7734 non-null float64\n",
      "ch. mean      7734 non-null float64\n",
      "ch. median    7734 non-null float64\n",
      "ch. min       7734 non-null float64\n",
      "d             7734 non-null float64\n",
      "d_min         7734 non-null float64\n",
      "duplicate     7734 non-null int64\n",
      "error         6457 non-null float64\n",
      "error_csd     7734 non-null float64\n",
      "error_ele     7734 non-null float64\n",
      "fICA_corr     6457 non-null float64\n",
      "id            7734 non-null int64\n",
      "r             7734 non-null float64\n",
      "x             7734 non-null float64\n",
      "x_csd         7734 non-null float64\n",
      "x_est         6457 non-null float64\n",
      "y             7734 non-null float64\n",
      "y_csd         7734 non-null float64\n",
      "y_est         6457 non-null float64\n",
      "z             7734 non-null float64\n",
      "z_csd         7734 non-null float64\n",
      "z_est         6457 non-null float64\n",
      "dtypes: float64(30), int64(3)\n",
      "memory usage: 2.0 MB\n",
      "None\n"
     ]
    }
   ],
   "source": [
    "df_full=pd.read_json('data.json',orient='index')\n",
    "#Also CSV excel sheets etc.\n",
    "print df_full.info()\n"
   ]
  },
  {
   "cell_type": "code",
   "execution_count": null,
   "metadata": {
    "collapsed": true
   },
   "outputs": [],
   "source": []
  },
  {
   "cell_type": "code",
   "execution_count": null,
   "metadata": {
    "collapsed": true
   },
   "outputs": [],
   "source": []
  }
 ],
 "metadata": {
  "kernelspec": {
   "display_name": "Python (ICA)",
   "language": "python",
   "name": "ica"
  },
  "language_info": {
   "codemirror_mode": {
    "name": "ipython",
    "version": 2
   },
   "file_extension": ".py",
   "mimetype": "text/x-python",
   "name": "python",
   "nbconvert_exporter": "python",
   "pygments_lexer": "ipython2",
   "version": "2.7.14"
  }
 },
 "nbformat": 4,
 "nbformat_minor": 2
}
