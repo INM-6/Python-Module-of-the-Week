{
 "cells": [
  {
   "cell_type": "markdown",
   "metadata": {
    "slideshow": {
     "slide_type": "slide"
    }
   },
   "source": [
    "# Advanced Numpy & Pandas\n",
    "\n",
    "[Python Module of the Week](https://github.com/INM-6/Python-Module-of-the-Week) by [Alex van Meegen](https://alexvanmeegen.github.io/)\n",
    "\n",
    "## Table of contents\n",
    "1. [Numpy](#numpy)\n",
    "    1. [Anatomy of an ndarray](#anatomy)\n",
    "    2. [Views & Copies](#viewscopies)\n",
    "    3. [Broadcasting](#broadcasting)\n",
    "3. [Pandas](#pandas)\n",
    "    1. [Series & DataFrames](#seriesdataframes)\n",
    "    2. [Multiindex](#multiindex)\n",
    "    3. [Groupby](#groupby)"
   ]
  },
  {
   "cell_type": "markdown",
   "metadata": {
    "slideshow": {
     "slide_type": "slide"
    }
   },
   "source": [
    "## Numpy <a name=\"numpy\"></a>"
   ]
  },
  {
   "cell_type": "code",
   "execution_count": null,
   "metadata": {
    "slideshow": {
     "slide_type": "fragment"
    }
   },
   "outputs": [],
   "source": [
    "import numpy as np"
   ]
  },
  {
   "cell_type": "code",
   "execution_count": null,
   "metadata": {
    "slideshow": {
     "slide_type": "fragment"
    }
   },
   "outputs": [],
   "source": [
    "def print_info(a):\n",
    "    print('number of elements:', a.size)\n",
    "    print('number of dimensions:', a.ndim)\n",
    "    print('shape:', a.shape)\n",
    "    print('data type:', a.dtype)\n",
    "    print('strides:', a.strides)"
   ]
  },
  {
   "cell_type": "markdown",
   "metadata": {
    "slideshow": {
     "slide_type": "slide"
    }
   },
   "source": [
    "### Anatomy of an ndarray <a name=\"anatomy\"></a>\n",
    "\n",
    "* [ndarray](https://docs.scipy.org/doc/numpy/reference/arrays.ndarray.html) = block of memory + indexing scheme + data type descriptor\n",
    "\n",
    "<img src=\"img/array.png\" alt=\"array\" style=\"width: 600px;\"/>"
   ]
  },
  {
   "cell_type": "code",
   "execution_count": null,
   "metadata": {
    "slideshow": {
     "slide_type": "fragment"
    }
   },
   "outputs": [],
   "source": [
    "a = np.arange(6)\n",
    "print(a)"
   ]
  },
  {
   "cell_type": "code",
   "execution_count": null,
   "metadata": {
    "slideshow": {
     "slide_type": "fragment"
    }
   },
   "outputs": [],
   "source": [
    "print_info(a)"
   ]
  },
  {
   "cell_type": "markdown",
   "metadata": {
    "slideshow": {
     "slide_type": "subslide"
    }
   },
   "source": [
    "* `dtype` changes the size of the elements -> strides change:"
   ]
  },
  {
   "cell_type": "code",
   "execution_count": null,
   "metadata": {
    "slideshow": {
     "slide_type": "-"
    }
   },
   "outputs": [],
   "source": [
    "a = np.arange(6, dtype=np.int16)\n",
    "print_info(a)"
   ]
  },
  {
   "cell_type": "code",
   "execution_count": null,
   "metadata": {
    "slideshow": {
     "slide_type": "fragment"
    }
   },
   "outputs": [],
   "source": [
    "a = np.arange(6, dtype=np.float32)\n",
    "print_info(a)"
   ]
  },
  {
   "cell_type": "markdown",
   "metadata": {
    "slideshow": {
     "slide_type": "subslide"
    }
   },
   "source": [
    "* now 2d arrays:\n",
    "\n",
    "<img src=\"img/strides.png\" alt=\"strides\" style=\"width: 700px;\"/>"
   ]
  },
  {
   "cell_type": "code",
   "execution_count": null,
   "metadata": {
    "slideshow": {
     "slide_type": "-"
    }
   },
   "outputs": [],
   "source": [
    "a = np.arange(9).reshape(3, 3)\n",
    "print(a)"
   ]
  },
  {
   "cell_type": "code",
   "execution_count": null,
   "metadata": {
    "slideshow": {
     "slide_type": "-"
    }
   },
   "outputs": [],
   "source": [
    "print_info(a)"
   ]
  },
  {
   "cell_type": "markdown",
   "metadata": {
    "slideshow": {
     "slide_type": "slide"
    }
   },
   "source": [
    "### Views & Copies <a name=\"viewscopies\"></a>\n",
    "\n",
    "* [view](https://docs.scipy.org/doc/numpy/reference/generated/numpy.ndarray.view.html): looking from different angles at the underlying block of memory\n",
    "* [copy](https://docs.scipy.org/doc/numpy/reference/generated/numpy.ndarray.copy.html): assigns a new block of memory"
   ]
  },
  {
   "cell_type": "code",
   "execution_count": null,
   "metadata": {
    "slideshow": {
     "slide_type": "-"
    }
   },
   "outputs": [],
   "source": [
    "print_info(a)\n",
    "print('-'*25)\n",
    "print_info(a.T)"
   ]
  },
  {
   "cell_type": "markdown",
   "metadata": {
    "slideshow": {
     "slide_type": "subslide"
    }
   },
   "source": [
    "* `a.T` returns a view, with immediate consequences:"
   ]
  },
  {
   "cell_type": "code",
   "execution_count": null,
   "metadata": {
    "slideshow": {
     "slide_type": "-"
    }
   },
   "outputs": [],
   "source": [
    "print(a)\n",
    "a.T[2, 2] = -1\n",
    "print(a)\n",
    "a[2, 2] = 8\n",
    "print(a)"
   ]
  },
  {
   "cell_type": "markdown",
   "metadata": {
    "slideshow": {
     "slide_type": "subslide"
    }
   },
   "source": [
    "* beyond transposition:"
   ]
  },
  {
   "cell_type": "code",
   "execution_count": null,
   "metadata": {
    "slideshow": {
     "slide_type": "-"
    }
   },
   "outputs": [],
   "source": [
    "print(a.ravel())\n",
    "print('-'*25)\n",
    "print_info(a)\n",
    "print('-'*25)\n",
    "print_info(a.ravel())"
   ]
  },
  {
   "cell_type": "markdown",
   "metadata": {
    "slideshow": {
     "slide_type": "subslide"
    }
   },
   "source": [
    "* how to identify views?"
   ]
  },
  {
   "cell_type": "code",
   "execution_count": null,
   "metadata": {
    "slideshow": {
     "slide_type": "-"
    }
   },
   "outputs": [],
   "source": [
    "print(a.ravel())\n",
    "print(a.ravel().base)\n",
    "print(a.ravel().base is a.base)"
   ]
  },
  {
   "cell_type": "code",
   "execution_count": null,
   "metadata": {
    "slideshow": {
     "slide_type": "-"
    }
   },
   "outputs": [],
   "source": [
    "print(a.flatten())\n",
    "print(a.flatten().base)\n",
    "print(a.flatten().base is a.base)"
   ]
  },
  {
   "cell_type": "markdown",
   "metadata": {
    "slideshow": {
     "slide_type": "subslide"
    }
   },
   "source": [
    "* [indexing](https://docs.scipy.org/doc/numpy/user/basics.indexing.html): returns a view\n",
    "* [fancy indexing](https://docs.scipy.org/doc/numpy/reference/arrays.indexing.html#advanced-indexing): returns a copy"
   ]
  },
  {
   "cell_type": "code",
   "execution_count": null,
   "metadata": {
    "slideshow": {
     "slide_type": "-"
    }
   },
   "outputs": [],
   "source": [
    "print(a)\n",
    "print(a.base)"
   ]
  },
  {
   "cell_type": "code",
   "execution_count": null,
   "metadata": {
    "slideshow": {
     "slide_type": "-"
    }
   },
   "outputs": [],
   "source": [
    "print(a[0:2, :])\n",
    "print(a[0:2, :].base)"
   ]
  },
  {
   "cell_type": "code",
   "execution_count": null,
   "metadata": {
    "slideshow": {
     "slide_type": "-"
    }
   },
   "outputs": [],
   "source": [
    "print(a[[0, 2], :])\n",
    "print(a[[0, 2], :].base)"
   ]
  },
  {
   "cell_type": "code",
   "execution_count": null,
   "metadata": {
    "slideshow": {
     "slide_type": "-"
    }
   },
   "outputs": [],
   "source": [
    "print(a[a > 3])\n",
    "print(a[a > 3].base)"
   ]
  },
  {
   "cell_type": "markdown",
   "metadata": {
    "slideshow": {
     "slide_type": "subslide"
    }
   },
   "source": [
    "* avoiding copies: in-place operations"
   ]
  },
  {
   "cell_type": "code",
   "execution_count": null,
   "metadata": {
    "slideshow": {
     "slide_type": "-"
    }
   },
   "outputs": [],
   "source": [
    "print(a)\n",
    "np.add(a, 5, out=a)\n",
    "print(a)\n",
    "np.subtract(a, 5, out=a)\n",
    "print(a)"
   ]
  },
  {
   "cell_type": "markdown",
   "metadata": {
    "slideshow": {
     "slide_type": "subslide"
    }
   },
   "source": [
    "* of course, we can manipulate the `dtype`, the `strides`, ...\n",
    "* this can lead to some weird stuff (but might also be handy sometimes)"
   ]
  },
  {
   "cell_type": "code",
   "execution_count": null,
   "metadata": {
    "slideshow": {
     "slide_type": "-"
    }
   },
   "outputs": [],
   "source": [
    "print(a)\n",
    "print_info(a)\n",
    "print('-'*25)\n",
    "print(a.view(dtype=np.int16))\n",
    "print_info(a.view(dtype=np.int16))"
   ]
  },
  {
   "cell_type": "markdown",
   "metadata": {
    "slideshow": {
     "slide_type": "slide"
    }
   },
   "source": [
    "### Broadcasting <a name=\"broadcasting\"></a>\n",
    "\n",
    "* [broadcasting](https://docs.scipy.org/doc/numpy/user/basics.broadcasting.html): making array shapes compatible, e.g. in when multiplying with a scalar\n",
    "* manually: use `np.newaxis` to create dummy axis\n",
    "* internal: adds a 0 length stride"
   ]
  },
  {
   "cell_type": "code",
   "execution_count": null,
   "metadata": {
    "slideshow": {
     "slide_type": "-"
    }
   },
   "outputs": [],
   "source": [
    "a = np.arange(6)\n",
    "print(a)"
   ]
  },
  {
   "cell_type": "code",
   "execution_count": null,
   "metadata": {
    "slideshow": {
     "slide_type": "-"
    }
   },
   "outputs": [],
   "source": [
    "b = a[:, np.newaxis]\n",
    "print(b)\n",
    "print(b.base is a)\n",
    "print_info(b)"
   ]
  },
  {
   "cell_type": "markdown",
   "metadata": {
    "slideshow": {
     "slide_type": "subslide"
    }
   },
   "source": [
    "* why would we want to do this?\n",
    "* to compute the outer product $a_i a_j$"
   ]
  },
  {
   "cell_type": "code",
   "execution_count": null,
   "metadata": {
    "slideshow": {
     "slide_type": "-"
    }
   },
   "outputs": [],
   "source": [
    "print(a * b)"
   ]
  },
  {
   "cell_type": "markdown",
   "metadata": {
    "slideshow": {
     "slide_type": "fragment"
    }
   },
   "source": [
    "* or to compute the distances between points $d_{ij}^2 = (\\vec{x}_j - \\vec{x}_i)^2 = \\sum_{k=1}^d (x_{jk} -x_{ik})^2$"
   ]
  },
  {
   "cell_type": "code",
   "execution_count": null,
   "metadata": {
    "slideshow": {
     "slide_type": "-"
    }
   },
   "outputs": [],
   "source": [
    "points = np.array([[1, 0, 2], [-2, 0, 3], [2, 1, 2], [0, 0, 1]])\n",
    "print(points)\n",
    "print(points.shape)\n",
    "square_dist = np.sum((points[np.newaxis, :, :] - points[:, np.newaxis, :])**2, axis=2)\n",
    "print(square_dist)"
   ]
  },
  {
   "cell_type": "markdown",
   "metadata": {
    "slideshow": {
     "slide_type": "subslide"
    }
   },
   "source": [
    "* let's do a fancy example: calculating a correlation function\n",
    "$$ C_{\\phi}(\\tau) = \\lim_{t\\to\\infty} \\langle \\phi[x(t)] \\phi[x(t+\\tau)] \\rangle, \\quad x \\sim \\mathrm{GP}(0, C_{x}) $$\n",
    "* using Gauss-Hermite quadrature, the integral can be approximated by\n",
    "$$ C_{\\phi}(\\tau) \\approx \\frac{1}{2\\pi}\\sum_{j=1}^{n}w_{j}\\sum_{i=1}^{n}w_{i}\\phi[\\beta(\\tau)x_{j}-\\alpha(\\tau)x_{i}]\\phi[\\beta(\\tau)x_{j}+\\alpha(\\tau)x_{i}] $$"
   ]
  },
  {
   "cell_type": "code",
   "execution_count": null,
   "metadata": {
    "slideshow": {
     "slide_type": "fragment"
    }
   },
   "outputs": [],
   "source": [
    "from scipy.special import roots_hermitenorm\n",
    "\n",
    "def corrfct_gauss_hermite(C_x, phi, n=20):\n",
    "    alpha = np.sqrt(0.5 * (C_x[0] - C_x))[:, np.newaxis, np.newaxis]\n",
    "    beta = np.sqrt(0.5 * (C_x[0] + C_x))[:, np.newaxis, np.newaxis]\n",
    "\n",
    "    x, w = roots_hermitenorm(n) \n",
    "    x_i = x[np.newaxis, :, np.newaxis]\n",
    "    x_j = x[np.newaxis, np.newaxis, :]\n",
    "    w_i = w[np.newaxis, :, np.newaxis]\n",
    "    w_j = w[np.newaxis, np.newaxis, :]\n",
    "\n",
    "    return np.sum(w_j * w_i * phi(beta*x_j-alpha*x_i) * phi(beta*x_j+alpha*x_i), axis=(1, 2)) / (2*np.pi)"
   ]
  },
  {
   "cell_type": "code",
   "execution_count": null,
   "metadata": {
    "slideshow": {
     "slide_type": "subslide"
    }
   },
   "outputs": [],
   "source": [
    "import matplotlib.pyplot as plt\n",
    "\n",
    "t = 0.01*np.arange(1001)\n",
    "C_x = np.cos(np.pi*t)/np.cosh(t/2)\n",
    "\n",
    "fig, axs = plt.subplots(1, 2, figsize=(16, 4))\n",
    "for ax in axs:\n",
    "    ax.spines[\"top\"].set_visible(False)\n",
    "    ax.spines[\"right\"].set_visible(False)\n",
    "    ax.set_xlim(t.min(), t.max())\n",
    "    ax.set_xlabel(r'$\\tau$')\n",
    "    ax.set_ylabel(r'$C_{\\phi}(\\tau)$')\n",
    "axs[0].plot(t, corrfct_gauss_hermite(C_x, np.tanh), 'o', c='steelblue')\n",
    "axs[0].set_title(r'$\\phi(x)=\\tanh(x)$')\n",
    "axs[1].plot(t, corrfct_gauss_hermite(C_x, np.exp), 'o', c='lightsteelblue')\n",
    "axs[1].plot(t, np.exp(C_x[0]+C_x), 'k-')\n",
    "axs[1].set_title(r'$\\phi(x)=\\exp(x)$')\n",
    "plt.tight_layout()\n",
    "plt.show()\n",
    "\n",
    "print(f'maximum relative error: {np.abs(corrfct_gauss_hermite(C_x, np.exp)/np.exp(C_x[0]+C_x)-1).max()}')"
   ]
  },
  {
   "cell_type": "markdown",
   "metadata": {
    "slideshow": {
     "slide_type": "subslide"
    }
   },
   "source": [
    "* a note on *code vectorization* and *problem vectorization*\n",
    "* we want to compute $\\sum_{i,j} x_i y_j$:"
   ]
  },
  {
   "cell_type": "code",
   "execution_count": null,
   "metadata": {
    "slideshow": {
     "slide_type": "-"
    }
   },
   "outputs": [],
   "source": [
    "x = np.random.choice(range(1000), 100)\n",
    "y = np.random.choice(range(1000), 100)"
   ]
  },
  {
   "cell_type": "code",
   "execution_count": null,
   "metadata": {
    "slideshow": {
     "slide_type": "-"
    }
   },
   "outputs": [],
   "source": [
    "def outer_sum_1(x, y):\n",
    "    return np.sum(x[:, np.newaxis] * y[np.newaxis, :], axis=(0, 1))"
   ]
  },
  {
   "cell_type": "code",
   "execution_count": null,
   "metadata": {
    "slideshow": {
     "slide_type": "-"
    }
   },
   "outputs": [],
   "source": [
    "%timeit outer_sum_1(x, y)"
   ]
  },
  {
   "cell_type": "markdown",
   "metadata": {
    "slideshow": {
     "slide_type": "fragment"
    }
   },
   "source": [
    "* however, we know $\\sum_{i,j} x_i y_j = (\\sum_i x_i)(\\sum_j y_j)$ so let's use this:"
   ]
  },
  {
   "cell_type": "code",
   "execution_count": null,
   "metadata": {
    "slideshow": {
     "slide_type": "-"
    }
   },
   "outputs": [],
   "source": [
    "def outer_sum_2(x, y):\n",
    "    return np.sum(x) * np.sum(y)"
   ]
  },
  {
   "cell_type": "code",
   "execution_count": null,
   "metadata": {
    "slideshow": {
     "slide_type": "-"
    }
   },
   "outputs": [],
   "source": [
    "print(np.allclose(outer_sum_1(x, y), outer_sum_2(x, y)))"
   ]
  },
  {
   "cell_type": "code",
   "execution_count": null,
   "metadata": {
    "slideshow": {
     "slide_type": "-"
    }
   },
   "outputs": [],
   "source": [
    "%timeit outer_sum_2(x, y)"
   ]
  },
  {
   "cell_type": "markdown",
   "metadata": {
    "slideshow": {
     "slide_type": "subslide"
    }
   },
   "source": [
    "### Final remarks\n",
    "* numpy is awesome because it feels very often like writing (vector) equations\n",
    "* if you `conda install` numpy, it is uses [MKL optimizations](https://docs.anaconda.com/mkl-optimizations/)\n",
    "  * MKL: Intel Math Kernel Library, library of optimized math routines for Intel processors\n",
    "  * i.e. once the Python overhead becomes insignificat (large matrices) you probably can't be faster\n",
    "  * not just basic linear algebra but also things like FFT\n",
    "* many more *awesome* numpy examples in Nicolas Rougier's book [From Python to Numpy](https://www.labri.fr/perso/nrougier/from-python-to-numpy/)\n",
    "* for more technical details look at the [Scipy Lecture Notes](http://scipy-lectures.org/advanced/advanced_numpy/index.html)"
   ]
  },
  {
   "cell_type": "markdown",
   "metadata": {
    "slideshow": {
     "slide_type": "slide"
    }
   },
   "source": [
    "## Pandas <a name=\"pandas\"></a>"
   ]
  },
  {
   "cell_type": "code",
   "execution_count": null,
   "metadata": {
    "slideshow": {
     "slide_type": "fragment"
    }
   },
   "outputs": [],
   "source": [
    "import pandas as pd"
   ]
  },
  {
   "cell_type": "markdown",
   "metadata": {
    "slideshow": {
     "slide_type": "slide"
    }
   },
   "source": [
    "## Series & DataFrames <a name=\"seriesdataframes\"></a>\n",
    "\n",
    "* [Series](https://pandas.pydata.org/pandas-docs/stable/reference/api/pandas.Series.html): annotated 1d numpy array steroids\n",
    "* [DataFrame](https://pandas.pydata.org/pandas-docs/stable/reference/frame.html): annotated 2d numpy array on steroids"
   ]
  },
  {
   "cell_type": "code",
   "execution_count": null,
   "metadata": {
    "slideshow": {
     "slide_type": "fragment"
    }
   },
   "outputs": [],
   "source": [
    "C_x = pd.Series(data=C_x, index=t, name='C_x')\n",
    "print(C_x)"
   ]
  },
  {
   "cell_type": "code",
   "execution_count": null,
   "metadata": {
    "slideshow": {
     "slide_type": "fragment"
    }
   },
   "outputs": [],
   "source": [
    "points = pd.DataFrame(data=points, columns=('x', 'y', 'z'), index=('A', 'B', 'C', 'D'))\n",
    "print(points)"
   ]
  },
  {
   "cell_type": "markdown",
   "metadata": {
    "slideshow": {
     "slide_type": "subslide"
    }
   },
   "source": [
    "* how to get the index / columns:"
   ]
  },
  {
   "cell_type": "code",
   "execution_count": null,
   "metadata": {
    "slideshow": {
     "slide_type": "-"
    }
   },
   "outputs": [],
   "source": [
    "print(points.index)\n",
    "print(points.columns)\n",
    "print(C_x.index)"
   ]
  },
  {
   "cell_type": "markdown",
   "metadata": {
    "slideshow": {
     "slide_type": "-"
    }
   },
   "source": [
    "* getting back the underlying numpy array"
   ]
  },
  {
   "cell_type": "code",
   "execution_count": null,
   "metadata": {
    "slideshow": {
     "slide_type": "-"
    }
   },
   "outputs": [],
   "source": [
    "print(points.to_numpy())"
   ]
  },
  {
   "cell_type": "markdown",
   "metadata": {
    "slideshow": {
     "slide_type": "subslide"
    }
   },
   "source": [
    "* accessing the elements using the labels: `loc`"
   ]
  },
  {
   "cell_type": "code",
   "execution_count": null,
   "metadata": {
    "slideshow": {
     "slide_type": "-"
    }
   },
   "outputs": [],
   "source": [
    "print(points.loc[['A', 'C'], :])"
   ]
  },
  {
   "cell_type": "code",
   "execution_count": null,
   "metadata": {
    "slideshow": {
     "slide_type": "-"
    }
   },
   "outputs": [],
   "source": [
    "print(points.loc[:, 'x'])"
   ]
  },
  {
   "cell_type": "markdown",
   "metadata": {
    "slideshow": {
     "slide_type": "fragment"
    }
   },
   "source": [
    "* accessing the elements using the position (like numpy): `iloc`"
   ]
  },
  {
   "cell_type": "code",
   "execution_count": null,
   "metadata": {
    "slideshow": {
     "slide_type": "-"
    }
   },
   "outputs": [],
   "source": [
    "print(points.iloc[0:2, :])"
   ]
  },
  {
   "cell_type": "markdown",
   "metadata": {
    "slideshow": {
     "slide_type": "fragment"
    }
   },
   "source": [
    "* boolean indexing"
   ]
  },
  {
   "cell_type": "code",
   "execution_count": null,
   "metadata": {
    "slideshow": {
     "slide_type": "-"
    }
   },
   "outputs": [],
   "source": [
    "print(C_x[C_x > 0.999])"
   ]
  },
  {
   "cell_type": "markdown",
   "metadata": {
    "slideshow": {
     "slide_type": "subslide"
    }
   },
   "source": [
    "* `pandas` is fully compatible with `numpy`, `scipy`, `matplotlib`, ..."
   ]
  },
  {
   "cell_type": "code",
   "execution_count": null,
   "metadata": {
    "slideshow": {
     "slide_type": "-"
    }
   },
   "outputs": [],
   "source": [
    "print(np.sin(points))"
   ]
  },
  {
   "cell_type": "code",
   "execution_count": null,
   "metadata": {
    "slideshow": {
     "slide_type": "fragment"
    }
   },
   "outputs": [],
   "source": [
    "plt.plot(C_x)"
   ]
  },
  {
   "cell_type": "markdown",
   "metadata": {
    "slideshow": {
     "slide_type": "subslide"
    }
   },
   "source": [
    "* but `numpy` might destroy the precious index structure:"
   ]
  },
  {
   "cell_type": "code",
   "execution_count": null,
   "metadata": {
    "slideshow": {
     "slide_type": "-"
    }
   },
   "outputs": [],
   "source": [
    "def rotation_z(theta):\n",
    "    R = np.zeros((3, 3), dtype=np.float)\n",
    "    R[0, 0] = R[1, 1] = np.cos(2*np.pi*theta/360)\n",
    "    R[0, 1] = -np.sin(2*np.pi*theta/360)\n",
    "    R[1, 0] = np.sin(2*np.pi*theta/360)\n",
    "    R[2, 2] = 1\n",
    "    return R\n",
    "\n",
    "print(np.einsum('ab,ib->ia', rotation_z(45), points))"
   ]
  },
  {
   "cell_type": "markdown",
   "metadata": {
    "slideshow": {
     "slide_type": "subslide"
    }
   },
   "source": [
    "* neat: index is respected when performing operations"
   ]
  },
  {
   "cell_type": "code",
   "execution_count": null,
   "metadata": {
    "slideshow": {
     "slide_type": "-"
    }
   },
   "outputs": [],
   "source": [
    "scaling = pd.Series(data=[0.5, 1, 1.5, 2], index=('B', 'A', 'C', 'D'))\n",
    "print(scaling)\n",
    "print(points)\n",
    "print(points.mul(scaling, axis=0))"
   ]
  },
  {
   "cell_type": "markdown",
   "metadata": {
    "slideshow": {
     "slide_type": "subslide"
    }
   },
   "source": [
    "* a bit of convenience functions"
   ]
  },
  {
   "cell_type": "code",
   "execution_count": null,
   "metadata": {},
   "outputs": [],
   "source": [
    "print(points.mean())\n",
    "print(points.std())"
   ]
  },
  {
   "cell_type": "code",
   "execution_count": null,
   "metadata": {},
   "outputs": [],
   "source": [
    "points.apply(np.cumsum, axis=1)"
   ]
  },
  {
   "cell_type": "markdown",
   "metadata": {
    "slideshow": {
     "slide_type": "slide"
    }
   },
   "source": [
    "## Multiindex <a name=\"multiindex\"></a>\n",
    "* [hierarchical indices](https://pandas.pydata.org/pandas-docs/stable/user_guide/advanced.html): makes it possible to represent higher dimensional data"
   ]
  },
  {
   "cell_type": "code",
   "execution_count": null,
   "metadata": {
    "slideshow": {
     "slide_type": "-"
    }
   },
   "outputs": [],
   "source": [
    "points_unstacked = points.T.unstack()\n",
    "print(points_unstacked)"
   ]
  },
  {
   "cell_type": "markdown",
   "metadata": {
    "slideshow": {
     "slide_type": "subslide"
    }
   },
   "source": [
    "* getting things from the multiindex"
   ]
  },
  {
   "cell_type": "code",
   "execution_count": null,
   "metadata": {
    "slideshow": {
     "slide_type": "-"
    }
   },
   "outputs": [],
   "source": [
    "points_unstacked.loc[('A', ['x', 'z'])]"
   ]
  },
  {
   "cell_type": "code",
   "execution_count": null,
   "metadata": {
    "slideshow": {
     "slide_type": "-"
    }
   },
   "outputs": [],
   "source": [
    "points_unstacked.loc[(slice(None), 'x')]"
   ]
  },
  {
   "cell_type": "markdown",
   "metadata": {
    "slideshow": {
     "slide_type": "subslide"
    }
   },
   "source": [
    "* let's do more more realistic example"
   ]
  },
  {
   "cell_type": "code",
   "execution_count": null,
   "metadata": {
    "slideshow": {
     "slide_type": "-"
    }
   },
   "outputs": [],
   "source": [
    "neurons = pd.read_pickle('data/neurons.pkl')\n",
    "print(neurons)"
   ]
  },
  {
   "cell_type": "code",
   "execution_count": null,
   "metadata": {
    "slideshow": {
     "slide_type": "-"
    }
   },
   "outputs": [],
   "source": [
    "synapses = pd.read_pickle('data/synapses.pkl')\n",
    "print(synapses.info())"
   ]
  },
  {
   "cell_type": "markdown",
   "metadata": {
    "slideshow": {
     "slide_type": "subslide"
    }
   },
   "source": [
    "* total number of excitatory neurons:"
   ]
  },
  {
   "cell_type": "code",
   "execution_count": null,
   "metadata": {
    "slideshow": {
     "slide_type": "-"
    }
   },
   "outputs": [],
   "source": [
    "print(neurons.loc[(slice(None), slice(None), 'E')].sum())"
   ]
  },
  {
   "cell_type": "markdown",
   "metadata": {
    "slideshow": {
     "slide_type": "fragment"
    }
   },
   "source": [
    "* number of synapses between excitatory neurons in 'bankssts' and 'middletemporal'"
   ]
  },
  {
   "cell_type": "code",
   "execution_count": null,
   "metadata": {
    "slideshow": {
     "slide_type": "-"
    }
   },
   "outputs": [],
   "source": [
    "print(synapses.loc[('middletemporal', slice(None), slice(None)), \n",
    "                   ('bankssts', slice(None), 'E')])"
   ]
  },
  {
   "cell_type": "markdown",
   "metadata": {
    "slideshow": {
     "slide_type": "slide"
    }
   },
   "source": [
    "## Groupby <a name=\"groupby\"></a>\n",
    "* aggregate and apply operation"
   ]
  },
  {
   "cell_type": "code",
   "execution_count": null,
   "metadata": {
    "slideshow": {
     "slide_type": "-"
    }
   },
   "outputs": [],
   "source": [
    "print(synapses.groupby(level='layer').sum())"
   ]
  },
  {
   "cell_type": "markdown",
   "metadata": {
    "slideshow": {
     "slide_type": "subslide"
    }
   },
   "source": [
    "* for a nice example tutorial, see [Modern Pandas](http://tomaugspurger.github.io/modern-1-intro.html)"
   ]
  },
  {
   "cell_type": "code",
   "execution_count": null,
   "metadata": {},
   "outputs": [],
   "source": []
  }
 ],
 "metadata": {
  "celltoolbar": "Slideshow",
  "kernelspec": {
   "display_name": "Python 3",
   "language": "python",
   "name": "python3"
  },
  "language_info": {
   "codemirror_mode": {
    "name": "ipython",
    "version": 3
   },
   "file_extension": ".py",
   "mimetype": "text/x-python",
   "name": "python",
   "nbconvert_exporter": "python",
   "pygments_lexer": "ipython3",
   "version": "3.7.6"
  }
 },
 "nbformat": 4,
 "nbformat_minor": 4
}
