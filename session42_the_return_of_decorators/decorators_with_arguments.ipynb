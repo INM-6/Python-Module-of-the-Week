{
 "cells": [
  {
   "cell_type": "code",
   "execution_count": 2,
   "id": "b6c7a42b-0fbb-4ba5-9e4d-330b1bd2ec15",
   "metadata": {},
   "outputs": [],
   "source": [
    "import functools"
   ]
  },
  {
   "cell_type": "markdown",
   "id": "e062574b-4743-4392-9059-b370f406ed7b",
   "metadata": {},
   "source": [
    "### Decorator without arguments"
   ]
  },
  {
   "cell_type": "code",
   "execution_count": 3,
   "id": "db4d373d-31bf-4e35-af1d-441f86a9014c",
   "metadata": {},
   "outputs": [],
   "source": [
    "def decorator_wo_args(original_function):\n",
    "\n",
    "    def wrapped_function(*args, **kwargs):\n",
    "        print('args:', args, 'kwargs:', kwargs)\n",
    "        out = original_function(*args, **kwargs)\n",
    "        return out\n",
    "        \n",
    "    return wrapped_function"
   ]
  },
  {
   "cell_type": "code",
   "execution_count": 4,
   "id": "285029af-d992-4cb4-bff3-da9ea39f91bd",
   "metadata": {},
   "outputs": [],
   "source": [
    "@decorator_wo_args\n",
    "def func_dec_wo_args(func_arg='!'):\n",
    "    print('func_dec_wo_args', func_arg)"
   ]
  },
  {
   "cell_type": "code",
   "execution_count": 5,
   "id": "b44a8e94-e127-43e7-8263-f3d81aef4885",
   "metadata": {},
   "outputs": [
    {
     "name": "stdout",
     "output_type": "stream",
     "text": [
      "args: () kwargs: {}\n",
      "func_dec_wo_args !\n"
     ]
    }
   ],
   "source": [
    "func_dec_wo_args()"
   ]
  },
  {
   "cell_type": "markdown",
   "id": "bdfc17ac-917f-408f-91f2-c63b61793343",
   "metadata": {},
   "source": [
    "### Decorator with arguments"
   ]
  },
  {
   "cell_type": "code",
   "execution_count": 6,
   "id": "1433e42d-be07-4abe-9f27-f3501c6b9766",
   "metadata": {},
   "outputs": [],
   "source": [
    "def decorator_w_args(argument):\n",
    "\n",
    "    def _decorate(function):\n",
    "        \n",
    "        # functools fixes function metadata (e.g. name)\n",
    "        @functools.wraps(function)\n",
    "        def wrapped_function(*args, **kwargs):\n",
    "            print('args:', args, 'kwargs:', kwargs)\n",
    "            print('decorator argument:', argument)\n",
    "            out = function(*args, **kwargs)\n",
    "            return out\n",
    "        \n",
    "        return wrapped_function\n",
    "\n",
    "    return _decorate"
   ]
  },
  {
   "cell_type": "code",
   "execution_count": 7,
   "id": "f49ab503-4763-4955-8ae6-2d486c97ed1f",
   "metadata": {},
   "outputs": [],
   "source": [
    "@decorator_w_args(42)\n",
    "def func_dec_w_args(func_arg='!'):\n",
    "    print('func_dec_w_args', func_arg)"
   ]
  },
  {
   "cell_type": "code",
   "execution_count": 8,
   "id": "4458a3ea-0fbf-41ce-bffc-4ffc8e826d2f",
   "metadata": {},
   "outputs": [
    {
     "name": "stdout",
     "output_type": "stream",
     "text": [
      "args: () kwargs: {'func_arg': '?'}\n",
      "decorator argument: 42\n",
      "func_dec_w_args ?\n"
     ]
    }
   ],
   "source": [
    "func_dec_w_args(func_arg='?')"
   ]
  },
  {
   "cell_type": "markdown",
   "id": "65b63e6e-d9b9-48c8-854b-a7bd5bc76062",
   "metadata": {},
   "source": [
    "### Decorator with or without arguments"
   ]
  },
  {
   "cell_type": "code",
   "execution_count": 9,
   "id": "b08811d9-d86b-435a-82b8-89cf1e680a44",
   "metadata": {},
   "outputs": [],
   "source": [
    "def decorator_w_or_wo_args(original_function=None, optional_argument=None):\n",
    "\n",
    "    def _decorate(function):\n",
    "\n",
    "        # functools fixes function metadata (e.g. name)\n",
    "        @functools.wraps(function)\n",
    "        def wrapped_function(*args, **kwargs):\n",
    "            print('args:', args, 'kwargs:', kwargs)\n",
    "            print('decorator argument:', optional_argument)\n",
    "            out = function(*args, **kwargs)\n",
    "            return out\n",
    "        \n",
    "        return wrapped_function\n",
    "\n",
    "    if original_function:\n",
    "        return _decorate(original_function)\n",
    "    else:\n",
    "        return _decorate"
   ]
  },
  {
   "cell_type": "code",
   "execution_count": 10,
   "id": "e380aca7-b52b-40de-812e-92f15e911d4b",
   "metadata": {},
   "outputs": [],
   "source": [
    "@decorator_w_or_wo_args\n",
    "def func_dec_w_or_wo_args1(func_arg='!'):\n",
    "    print('func_dec_w_or_wo_args1', func_arg)\n",
    "\n",
    "@decorator_w_or_wo_args(optional_argument=99)\n",
    "# in this case it the decorator argument must have a keyword\n",
    "def func_dec_w_or_wo_args2(func_arg='!'):\n",
    "    print('func_dec_w_or_wo_args2', func_arg)"
   ]
  },
  {
   "cell_type": "code",
   "execution_count": 11,
   "id": "f9cdb12e-ce67-48b0-b52b-059fe85b9b05",
   "metadata": {},
   "outputs": [
    {
     "name": "stdout",
     "output_type": "stream",
     "text": [
      "args: ('!?',) kwargs: {}\n",
      "decorator argument: None\n",
      "func_dec_w_or_wo_args1 !?\n"
     ]
    }
   ],
   "source": [
    "func_dec_w_or_wo_args1('!?')"
   ]
  },
  {
   "cell_type": "code",
   "execution_count": 12,
   "id": "a3a5a6ed-0afc-41fe-a908-b9b8b3a151cf",
   "metadata": {},
   "outputs": [
    {
     "name": "stdout",
     "output_type": "stream",
     "text": [
      "args: () kwargs: {}\n",
      "decorator argument: 99\n",
      "func_dec_w_or_wo_args2 !\n"
     ]
    }
   ],
   "source": [
    "func_dec_w_or_wo_args2()"
   ]
  },
  {
   "cell_type": "markdown",
   "id": "9bd1c43a-537b-4138-aa01-11211d2d93ba",
   "metadata": {},
   "source": [
    "### Example from NetworkUnit\n",
    "If there exists a pre-calculated prediction in cache return it without recalculating,\n",
    "else calculate it and save it to the cache.\n",
    "Optionally, a hash for the cache location can be provided."
   ]
  },
  {
   "cell_type": "code",
   "execution_count": null,
   "id": "5e007a77-4e7d-40fc-9bf6-33db4cdf4a52",
   "metadata": {},
   "outputs": [],
   "source": [
    "def use_prediction_cache(generate_prediction_func=None, hash_key=None):\n",
    "    \"\"\"\n",
    "    Decorator for the `generate_prediction()` function of the tests, handles\n",
    "    cached prediction loading, parameter update and prediction saving.\n",
    "    \"\"\"\n",
    "\n",
    "    def _decorate(function):\n",
    "\n",
    "        @functools.wraps(function)\n",
    "        def wrapper(self, model):\n",
    "\n",
    "            # Check if predictions were already calculated\n",
    "            prediction = self.get_prediction(model, key=hash_key)\n",
    "\n",
    "            # If any parameter was specified by the user in the generate_prediction\n",
    "            # function the predictions are recalculated\n",
    "            if prediction is None:\n",
    "\n",
    "                # Generate and save prediction\n",
    "                prediction = function(self, model)\n",
    "                self.set_prediction(model, prediction, key=hash_key)\n",
    "\n",
    "            return prediction\n",
    "\n",
    "        return wrapper\n",
    "\n",
    "    if generate_prediction_func:\n",
    "        return _decorate(generate_prediction_func)\n",
    "    else:\n",
    "        return _decorate"
   ]
  }
 ],
 "metadata": {
  "kernelspec": {
   "display_name": "Python 3 (ipykernel)",
   "language": "python",
   "name": "python3"
  },
  "language_info": {
   "codemirror_mode": {
    "name": "ipython",
    "version": 3
   },
   "file_extension": ".py",
   "mimetype": "text/x-python",
   "name": "python",
   "nbconvert_exporter": "python",
   "pygments_lexer": "ipython3",
   "version": "3.9.6"
  }
 },
 "nbformat": 4,
 "nbformat_minor": 5
}
