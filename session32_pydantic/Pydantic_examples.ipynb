{
 "cells": [
  {
   "cell_type": "code",
   "execution_count": 25,
   "metadata": {},
   "outputs": [],
   "source": [
    "import numpy as np\n",
    "from collections.abc import Iterable\n",
    "from typing import List\n",
    "from pydantic import (\n",
    "    BaseModel, validator, root_validator,\n",
    "    PositiveFloat, confloat\n",
    ")"
   ]
  },
  {
   "cell_type": "markdown",
   "metadata": {},
   "source": [
    "# Intro"
   ]
  },
  {
   "cell_type": "markdown",
   "metadata": {},
   "source": [
    "## Pydantized python"
   ]
  },
  {
   "cell_type": "code",
   "execution_count": 18,
   "metadata": {},
   "outputs": [],
   "source": [
    "class A(BaseModel):\n",
    "    x: int\n",
    "class B(A):\n",
    "    y: int"
   ]
  },
  {
   "cell_type": "code",
   "execution_count": 19,
   "metadata": {},
   "outputs": [],
   "source": [
    "class Vector(BaseModel):\n",
    "    r: PositiveFloat\n",
    "    θ: confloat(gt=0, lt=2*np.pi)"
   ]
  },
  {
   "cell_type": "code",
   "execution_count": 20,
   "metadata": {},
   "outputs": [
    {
     "data": {
      "text/plain": [
       "{'title': 'Vector',\n",
       " 'type': 'object',\n",
       " 'properties': {'r': {'title': 'R', 'type': 'number', 'exclusiveMinimum': 0},\n",
       "  'θ': {'title': 'Θ',\n",
       "   'type': 'number',\n",
       "   'exclusiveMinimum': 0,\n",
       "   'exclusiveMaximum': 6.283185307179586}},\n",
       " 'required': ['r', 'θ']}"
      ]
     },
     "execution_count": 20,
     "metadata": {},
     "output_type": "execute_result"
    }
   ],
   "source": [
    "Vector.schema()"
   ]
  },
  {
   "cell_type": "code",
   "execution_count": 21,
   "metadata": {},
   "outputs": [
    {
     "data": {
      "text/plain": [
       "Complex(r=1.0, θ=5.533185307179586)"
      ]
     },
     "execution_count": 21,
     "metadata": {},
     "output_type": "execute_result"
    }
   ],
   "source": [
    "class Complex(Vector):\n",
    "    @validator('θ', pre=True)\n",
    "    def standardize_θ(θ):\n",
    "        return θ % (2*np.pi)\n",
    "    def conj(self):\n",
    "        return Complex(r=self.r, θ=-self.θ)\n",
    "      \n",
    "z = Complex(r=1, θ=0.75)\n",
    "z.conj()"
   ]
  },
  {
   "cell_type": "code",
   "execution_count": 22,
   "metadata": {},
   "outputs": [
    {
     "data": {
      "text/plain": [
       "VectorBasis(e=[Complex(r=1.0, θ=0.75), Complex(r=1.0, θ=5.533185307179586)])"
      ]
     },
     "execution_count": 22,
     "metadata": {},
     "output_type": "execute_result"
    }
   ],
   "source": [
    "class VectorBasis(BaseModel):\n",
    "    e :List[Vector]\n",
    "\n",
    "basis = VectorBasis(e=[z, z.conj()])\n",
    "basis"
   ]
  },
  {
   "cell_type": "markdown",
   "metadata": {},
   "source": [
    "## Normal Python"
   ]
  },
  {
   "cell_type": "code",
   "execution_count": 13,
   "metadata": {},
   "outputs": [],
   "source": [
    "class A:\n",
    "    def __init__(self, x:int):\n",
    "        self.x = x\n",
    "class B(A):\n",
    "    def __init__(self, x:int, y:int):\n",
    "        super().__init__(x)\n",
    "            # Remove y from signature\n",
    "        self.y"
   ]
  },
  {
   "cell_type": "code",
   "execution_count": 14,
   "metadata": {},
   "outputs": [],
   "source": [
    "class Vector:\n",
    "    def __init__(self, r:float, θ:float):\n",
    "        if r <= 0:\n",
    "            raise ValueError(\"Negative radius\")\n",
    "        if θ < 0 or 2*np.pi < θ:\n",
    "            raise ValueError(\"Angle outside [0,2π]\")\n",
    "        self.r = r\n",
    "        self.θ = θ"
   ]
  },
  {
   "cell_type": "code",
   "execution_count": 15,
   "metadata": {},
   "outputs": [
    {
     "data": {
      "text/plain": [
       "<__main__.Complex at 0x7f476d343040>"
      ]
     },
     "execution_count": 15,
     "metadata": {},
     "output_type": "execute_result"
    }
   ],
   "source": [
    "class Complex(Vector):\n",
    "    def __init__(self, r:float, θ:float):\n",
    "        θ = θ % (2*np.pi)\n",
    "        super().__init__(r, θ)\n",
    "    def conj(self):\n",
    "        return Complex(self.r, -self.θ)\n",
    "      \n",
    "z = Complex(r=1, θ=0.75)\n",
    "z.conj()"
   ]
  },
  {
   "cell_type": "code",
   "execution_count": 16,
   "metadata": {},
   "outputs": [
    {
     "data": {
      "text/plain": [
       "<__main__.VectorBasis at 0x7f476d343b80>"
      ]
     },
     "execution_count": 16,
     "metadata": {},
     "output_type": "execute_result"
    }
   ],
   "source": [
    "class VectorBasis:\n",
    "    def __init__(self, e):\n",
    "        if not isinstance(e, Iterable):\n",
    "            raise TypeError(\n",
    "              \"e is not iterable\")\n",
    "        if not isinstance(e, list):\n",
    "            e = list(e)\n",
    "        for ei in e:\n",
    "            if not isinstance(ei, Vector):\n",
    "                raise TypeError(\n",
    "                  \"e must be composed of Vector objects\")\n",
    "        self.e = e\n",
    "    \n",
    "basis = VectorBasis([z, z.conj()])\n",
    "basis"
   ]
  },
  {
   "cell_type": "markdown",
   "metadata": {},
   "source": [
    "# Example validation error"
   ]
  },
  {
   "cell_type": "code",
   "execution_count": 23,
   "metadata": {},
   "outputs": [
    {
     "ename": "ValidationError",
     "evalue": "2 validation errors for Vector\nr\n  ensure this value is greater than 0 (type=value_error.number.not_gt; limit_value=0)\nθ\n  ensure this value is less than 6.283185307179586 (type=value_error.number.not_lt; limit_value=6.283185307179586)",
     "output_type": "error",
     "traceback": [
      "\u001b[0;31m---------------------------------------------------------------------------\u001b[0m",
      "\u001b[0;31mValidationError\u001b[0m                           Traceback (most recent call last)",
      "\u001b[0;32m<ipython-input-23-3198a3192d14>\u001b[0m in \u001b[0;36m<module>\u001b[0;34m\u001b[0m\n\u001b[0;32m----> 1\u001b[0;31m \u001b[0mVector\u001b[0m\u001b[0;34m(\u001b[0m\u001b[0mr\u001b[0m\u001b[0;34m=\u001b[0m\u001b[0;34m-\u001b[0m\u001b[0;36m1\u001b[0m\u001b[0;34m,\u001b[0m \u001b[0mθ\u001b[0m\u001b[0;34m=\u001b[0m\u001b[0;36m99\u001b[0m\u001b[0;34m)\u001b[0m\u001b[0;34m\u001b[0m\u001b[0;34m\u001b[0m\u001b[0m\n\u001b[0m",
      "\u001b[0;32m~/usr/local/miniconda3/envs/sinn/lib/python3.8/site-packages/pydantic/main.cpython-38-x86_64-linux-gnu.so\u001b[0m in \u001b[0;36mpydantic.main.BaseModel.__init__\u001b[0;34m()\u001b[0m\n",
      "\u001b[0;31mValidationError\u001b[0m: 2 validation errors for Vector\nr\n  ensure this value is greater than 0 (type=value_error.number.not_gt; limit_value=0)\nθ\n  ensure this value is less than 6.283185307179586 (type=value_error.number.not_lt; limit_value=6.283185307179586)"
     ]
    }
   ],
   "source": [
    "Vector(r=-1, θ=99)"
   ]
  },
  {
   "cell_type": "markdown",
   "metadata": {},
   "source": [
    "# Execution order"
   ]
  },
  {
   "cell_type": "code",
   "execution_count": 26,
   "metadata": {},
   "outputs": [],
   "source": [
    "class Foo(BaseModel):\n",
    "    a: int\n",
    "    b: int\n",
    "    @root_validator\n",
    "    def root_val_post(cls, values):\n",
    "        print(\"root val post\")\n",
    "        return values\n",
    "    @root_validator(pre=True)\n",
    "    def root_val_pre(cls, values):\n",
    "        print(\"root val pre\")\n",
    "        return values\n",
    "    @validator('a')\n",
    "    def val_post_a(cls, a):\n",
    "        print(\"val post a\")\n",
    "        return a\n",
    "    @validator('b', pre=True)\n",
    "    def val_pre_b(cls, b):\n",
    "        print(\"val pre b\")\n",
    "        return b\n",
    "    @validator('a', pre=True)\n",
    "    def val_pre_a(cls, a):\n",
    "        print(\"val pre a\")\n",
    "        return a\n",
    "    @validator('b')\n",
    "    def val_post_b(cls, b):\n",
    "        print(\"val post b\")\n",
    "        return b"
   ]
  },
  {
   "cell_type": "code",
   "execution_count": 28,
   "metadata": {},
   "outputs": [
    {
     "name": "stdout",
     "output_type": "stream",
     "text": [
      "root val pre\n",
      "val pre a\n",
      "val post a\n",
      "val pre b\n",
      "val post b\n",
      "root val post\n"
     ]
    },
    {
     "data": {
      "text/plain": [
       "Foo(a=1, b=1)"
      ]
     },
     "execution_count": 28,
     "metadata": {},
     "output_type": "execute_result"
    }
   ],
   "source": [
    "Foo(a=1, b=1)"
   ]
  },
  {
   "cell_type": "code",
   "execution_count": 29,
   "metadata": {},
   "outputs": [
    {
     "name": "stdout",
     "output_type": "stream",
     "text": [
      "root val pre\n",
      "root val post\n"
     ]
    },
    {
     "ename": "ValidationError",
     "evalue": "2 validation errors for Foo\na\n  field required (type=value_error.missing)\nb\n  field required (type=value_error.missing)",
     "output_type": "error",
     "traceback": [
      "\u001b[0;31m---------------------------------------------------------------------------\u001b[0m",
      "\u001b[0;31mValidationError\u001b[0m                           Traceback (most recent call last)",
      "\u001b[0;32m<ipython-input-29-fdea65d60c59>\u001b[0m in \u001b[0;36m<module>\u001b[0;34m\u001b[0m\n\u001b[0;32m----> 1\u001b[0;31m \u001b[0mFoo\u001b[0m\u001b[0;34m(\u001b[0m\u001b[0;34m)\u001b[0m\u001b[0;34m\u001b[0m\u001b[0;34m\u001b[0m\u001b[0m\n\u001b[0m",
      "\u001b[0;32m~/usr/local/miniconda3/envs/sinn/lib/python3.8/site-packages/pydantic/main.cpython-38-x86_64-linux-gnu.so\u001b[0m in \u001b[0;36mpydantic.main.BaseModel.__init__\u001b[0;34m()\u001b[0m\n",
      "\u001b[0;31mValidationError\u001b[0m: 2 validation errors for Foo\na\n  field required (type=value_error.missing)\nb\n  field required (type=value_error.missing)"
     ]
    }
   ],
   "source": [
    "Foo()"
   ]
  },
  {
   "cell_type": "code",
   "execution_count": 30,
   "metadata": {},
   "outputs": [
    {
     "name": "stdout",
     "output_type": "stream",
     "text": [
      "root val pre\n",
      "val pre a\n",
      "val pre b\n",
      "val post b\n",
      "root val post\n"
     ]
    },
    {
     "ename": "ValidationError",
     "evalue": "1 validation error for Foo\na\n  value is not a valid integer (type=type_error.integer)",
     "output_type": "error",
     "traceback": [
      "\u001b[0;31m---------------------------------------------------------------------------\u001b[0m",
      "\u001b[0;31mValidationError\u001b[0m                           Traceback (most recent call last)",
      "\u001b[0;32m<ipython-input-30-e67f50384fc4>\u001b[0m in \u001b[0;36m<module>\u001b[0;34m\u001b[0m\n\u001b[0;32m----> 1\u001b[0;31m \u001b[0mFoo\u001b[0m\u001b[0;34m(\u001b[0m\u001b[0ma\u001b[0m\u001b[0;34m=\u001b[0m\u001b[0;34m[\u001b[0m\u001b[0;36m1\u001b[0m\u001b[0;34m,\u001b[0m\u001b[0;36m2\u001b[0m\u001b[0;34m]\u001b[0m\u001b[0;34m,\u001b[0m \u001b[0mb\u001b[0m\u001b[0;34m=\u001b[0m\u001b[0;36m1\u001b[0m\u001b[0;34m)\u001b[0m\u001b[0;34m\u001b[0m\u001b[0;34m\u001b[0m\u001b[0m\n\u001b[0m",
      "\u001b[0;32m~/usr/local/miniconda3/envs/sinn/lib/python3.8/site-packages/pydantic/main.cpython-38-x86_64-linux-gnu.so\u001b[0m in \u001b[0;36mpydantic.main.BaseModel.__init__\u001b[0;34m()\u001b[0m\n",
      "\u001b[0;31mValidationError\u001b[0m: 1 validation error for Foo\na\n  value is not a valid integer (type=type_error.integer)"
     ]
    }
   ],
   "source": [
    "Foo(a=[1,2], b=1)"
   ]
  },
  {
   "cell_type": "code",
   "execution_count": 31,
   "metadata": {},
   "outputs": [
    {
     "name": "stdout",
     "output_type": "stream",
     "text": [
      "root val pre\n",
      "val pre a\n",
      "val post a\n",
      "val pre b\n",
      "root val post\n"
     ]
    },
    {
     "ename": "ValidationError",
     "evalue": "1 validation error for Foo\nb\n  value is not a valid integer (type=type_error.integer)",
     "output_type": "error",
     "traceback": [
      "\u001b[0;31m---------------------------------------------------------------------------\u001b[0m",
      "\u001b[0;31mValidationError\u001b[0m                           Traceback (most recent call last)",
      "\u001b[0;32m<ipython-input-31-ca8e22466f32>\u001b[0m in \u001b[0;36m<module>\u001b[0;34m\u001b[0m\n\u001b[0;32m----> 1\u001b[0;31m \u001b[0mFoo\u001b[0m\u001b[0;34m(\u001b[0m\u001b[0ma\u001b[0m\u001b[0;34m=\u001b[0m\u001b[0;36m1\u001b[0m\u001b[0;34m,\u001b[0m \u001b[0mb\u001b[0m\u001b[0;34m=\u001b[0m\u001b[0;34m[\u001b[0m\u001b[0;36m1\u001b[0m\u001b[0;34m,\u001b[0m\u001b[0;36m2\u001b[0m\u001b[0;34m]\u001b[0m\u001b[0;34m)\u001b[0m\u001b[0;34m\u001b[0m\u001b[0;34m\u001b[0m\u001b[0m\n\u001b[0m",
      "\u001b[0;32m~/usr/local/miniconda3/envs/sinn/lib/python3.8/site-packages/pydantic/main.cpython-38-x86_64-linux-gnu.so\u001b[0m in \u001b[0;36mpydantic.main.BaseModel.__init__\u001b[0;34m()\u001b[0m\n",
      "\u001b[0;31mValidationError\u001b[0m: 1 validation error for Foo\nb\n  value is not a valid integer (type=type_error.integer)"
     ]
    }
   ],
   "source": [
    "Foo(a=1, b=[1,2])"
   ]
  },
  {
   "cell_type": "code",
   "execution_count": 32,
   "metadata": {},
   "outputs": [
    {
     "name": "stdout",
     "output_type": "stream",
     "text": [
      "root val pre\n",
      "val pre a\n",
      "val pre b\n",
      "root val post\n"
     ]
    },
    {
     "ename": "ValidationError",
     "evalue": "2 validation errors for Foo\na\n  value is not a valid integer (type=type_error.integer)\nb\n  value is not a valid integer (type=type_error.integer)",
     "output_type": "error",
     "traceback": [
      "\u001b[0;31m---------------------------------------------------------------------------\u001b[0m",
      "\u001b[0;31mValidationError\u001b[0m                           Traceback (most recent call last)",
      "\u001b[0;32m<ipython-input-32-fe07bec27756>\u001b[0m in \u001b[0;36m<module>\u001b[0;34m\u001b[0m\n\u001b[0;32m----> 1\u001b[0;31m \u001b[0mFoo\u001b[0m\u001b[0;34m(\u001b[0m\u001b[0ma\u001b[0m\u001b[0;34m=\u001b[0m\u001b[0;34m[\u001b[0m\u001b[0;36m1\u001b[0m\u001b[0;34m,\u001b[0m\u001b[0;36m2\u001b[0m\u001b[0;34m]\u001b[0m\u001b[0;34m,\u001b[0m \u001b[0mb\u001b[0m\u001b[0;34m=\u001b[0m\u001b[0;34m[\u001b[0m\u001b[0;36m1\u001b[0m\u001b[0;34m,\u001b[0m\u001b[0;36m2\u001b[0m\u001b[0;34m]\u001b[0m\u001b[0;34m)\u001b[0m\u001b[0;34m\u001b[0m\u001b[0;34m\u001b[0m\u001b[0m\n\u001b[0m",
      "\u001b[0;32m~/usr/local/miniconda3/envs/sinn/lib/python3.8/site-packages/pydantic/main.cpython-38-x86_64-linux-gnu.so\u001b[0m in \u001b[0;36mpydantic.main.BaseModel.__init__\u001b[0;34m()\u001b[0m\n",
      "\u001b[0;31mValidationError\u001b[0m: 2 validation errors for Foo\na\n  value is not a valid integer (type=type_error.integer)\nb\n  value is not a valid integer (type=type_error.integer)"
     ]
    }
   ],
   "source": [
    "Foo(a=[1,2], b=[1,2])"
   ]
  },
  {
   "cell_type": "code",
   "execution_count": null,
   "metadata": {},
   "outputs": [],
   "source": []
  }
 ],
 "metadata": {
  "kernelspec": {
   "display_name": "Python (sinn)",
   "language": "python",
   "name": "sinn"
  },
  "language_info": {
   "codemirror_mode": {
    "name": "ipython",
    "version": 3
   },
   "file_extension": ".py",
   "mimetype": "text/x-python",
   "name": "python",
   "nbconvert_exporter": "python",
   "pygments_lexer": "ipython3",
   "version": "3.8.2"
  }
 },
 "nbformat": 4,
 "nbformat_minor": 4
}
