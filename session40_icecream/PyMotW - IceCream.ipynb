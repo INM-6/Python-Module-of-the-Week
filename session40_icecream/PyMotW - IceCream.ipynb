{
 "cells": [
  {
   "cell_type": "markdown",
   "metadata": {
    "slideshow": {
     "slide_type": "slide"
    }
   },
   "source": [
    "PyMotW - IceCream\n",
    "-----------------\n",
    "\n",
    "<h1 align=\"center\">\n",
    "  <img src=\"https://github.com/gruns/icecream/raw/master/logo.svg\" width=\"220px\" height=\"370px\" alt=\"icecream\">\n",
    "</h1>\n",
    "\n",
    "https://github.com/gruns/icecream\n",
    "\n",
    "available via conda-forge and pypi"
   ]
  },
  {
   "cell_type": "markdown",
   "metadata": {
    "slideshow": {
     "slide_type": "slide"
    }
   },
   "source": [
    "Never use `print()` to debug again!\n",
    "\n",
    "Many of us have used `print()` or `log()` for debugging purposes before. IceCream, or `ic` for short, makes print debugging a little cooler and sweeter.\n",
    "\n",
    "`ic()` is like `print()`, but better:\n",
    "\n",
    "  1. It prints both expressions/variable names and their values.\n",
    "  2. It's 40% faster to type.\n",
    "  3. Data structures are pretty printed.\n",
    "  4. Output is syntax highlighted.\n",
    "  5. It optionally includes program context: filename, line number, and\n",
    "     parent function."
   ]
  },
  {
   "cell_type": "code",
   "execution_count": 1,
   "metadata": {
    "slideshow": {
     "slide_type": "slide"
    }
   },
   "outputs": [],
   "source": [
    "def foo(i):\n",
    "    return i + 333"
   ]
  },
  {
   "cell_type": "code",
   "execution_count": 3,
   "metadata": {
    "slideshow": {
     "slide_type": "fragment"
    }
   },
   "outputs": [
    {
     "name": "stdout",
     "output_type": "stream",
     "text": [
      "456\n"
     ]
    }
   ],
   "source": [
    "print(foo(123))"
   ]
  },
  {
   "cell_type": "markdown",
   "metadata": {
    "slideshow": {
     "slide_type": "fragment"
    }
   },
   "source": [
    "If you have several `print` calls it can quickly become unclear what is being printed where. So many of us may have ended up doing something like this before:"
   ]
  },
  {
   "cell_type": "code",
   "execution_count": 5,
   "metadata": {
    "slideshow": {
     "slide_type": "fragment"
    }
   },
   "outputs": [
    {
     "name": "stdout",
     "output_type": "stream",
     "text": [
      "foo(123) 456\n"
     ]
    }
   ],
   "source": [
    "print(\"foo(123)\", foo(123))"
   ]
  },
  {
   "cell_type": "markdown",
   "metadata": {
    "slideshow": {
     "slide_type": "slide"
    }
   },
   "source": [
    "That's where IceCream comes in:"
   ]
  },
  {
   "cell_type": "code",
   "execution_count": 6,
   "metadata": {
    "slideshow": {
     "slide_type": "slide"
    }
   },
   "outputs": [
    {
     "name": "stderr",
     "output_type": "stream",
     "text": [
      "ic| foo(123): 456\n"
     ]
    },
    {
     "data": {
      "text/plain": [
       "456"
      ]
     },
     "execution_count": 6,
     "metadata": {},
     "output_type": "execute_result"
    }
   ],
   "source": [
    "from icecream import ic\n",
    "\n",
    "ic(foo(123))"
   ]
  },
  {
   "cell_type": "markdown",
   "metadata": {
    "slideshow": {
     "slide_type": "subslide"
    }
   },
   "source": [
    "It tells you that this is IceCream issuing a print and which function with which arguments returned the value that is being printed. Pretty neat, right? \n",
    "\n",
    "This doesn't only work with functions:"
   ]
  },
  {
   "cell_type": "code",
   "execution_count": 7,
   "metadata": {
    "slideshow": {
     "slide_type": "slide"
    }
   },
   "outputs": [
    {
     "name": "stderr",
     "output_type": "stream",
     "text": [
      "ic| d['key'][1]: 'one'\n",
      "ic| klass.attr: 'yep'\n"
     ]
    },
    {
     "data": {
      "text/plain": [
       "'yep'"
      ]
     },
     "execution_count": 7,
     "metadata": {},
     "output_type": "execute_result"
    }
   ],
   "source": [
    "d = {'key': {1: 'one'}}\n",
    "ic(d['key'][1])\n",
    "\n",
    "class klass():\n",
    "    attr = 'yep'\n",
    "ic(klass.attr)"
   ]
  },
  {
   "cell_type": "markdown",
   "metadata": {
    "slideshow": {
     "slide_type": "slide"
    }
   },
   "source": [
    "If you would like to use `print` statements to determine the execution order of your program during runtime IceCream also has you covered:"
   ]
  },
  {
   "cell_type": "code",
   "execution_count": 11,
   "metadata": {
    "slideshow": {
     "slide_type": "subslide"
    }
   },
   "outputs": [
    {
     "name": "stderr",
     "output_type": "stream",
     "text": [
      "ic| <ipython-input-11-15af224a5ce7>:2 in foo() at 12:37:15.073\n",
      "ic| <ipython-input-11-15af224a5ce7>:9 in foo() at 12:37:15.093\n"
     ]
    }
   ],
   "source": [
    "def foo():\n",
    "    ic()\n",
    "    pass\n",
    "\n",
    "    if 'parrot' in 'bird':\n",
    "        ic()\n",
    "        pass\n",
    "    else:\n",
    "        ic()\n",
    "        pass\n",
    "        \n",
    "foo()"
   ]
  },
  {
   "cell_type": "markdown",
   "metadata": {
    "slideshow": {
     "slide_type": "subslide"
    }
   },
   "source": [
    "When called without arguments it tells you the line and the context of the `ic()` printing the current message."
   ]
  },
  {
   "cell_type": "markdown",
   "metadata": {
    "slideshow": {
     "slide_type": "slide"
    }
   },
   "source": [
    "As you may have noticed due to the superfluous prints above, `ic()` actually returns its arguments. This means that we can use it inside of an expression and we don't have to always invoke it separately:"
   ]
  },
  {
   "cell_type": "code",
   "execution_count": 13,
   "metadata": {
    "slideshow": {
     "slide_type": "subslide"
    }
   },
   "outputs": [
    {
     "name": "stderr",
     "output_type": "stream",
     "text": [
      "ic| a: 6\n",
      "ic| b: 3.0\n"
     ]
    },
    {
     "data": {
      "text/plain": [
       "3.0"
      ]
     },
     "execution_count": 13,
     "metadata": {},
     "output_type": "execute_result"
    }
   ],
   "source": [
    "a = 6\n",
    "\n",
    "def half(i):\n",
    "    return i / 2\n",
    "\n",
    "b = half(ic(a)) # <-- where the magic happens\n",
    "ic(b)"
   ]
  },
  {
   "cell_type": "markdown",
   "metadata": {
    "slideshow": {
     "slide_type": "slide"
    }
   },
   "source": [
    "You can even have it print nothing and return the message that would be printed as a string:"
   ]
  },
  {
   "cell_type": "code",
   "execution_count": 14,
   "metadata": {
    "slideshow": {
     "slide_type": "subslide"
    }
   },
   "outputs": [
    {
     "name": "stdout",
     "output_type": "stream",
     "text": [
      "ic| s: 'sup'\n"
     ]
    }
   ],
   "source": [
    "s = 'sup'\n",
    "out = ic.format(s)\n",
    "print(out)"
   ]
  },
  {
   "cell_type": "markdown",
   "metadata": {
    "slideshow": {
     "slide_type": "slide"
    }
   },
   "source": [
    "`ic()`'s output can be disabled and reenabled as follows:"
   ]
  },
  {
   "cell_type": "code",
   "execution_count": 15,
   "metadata": {
    "slideshow": {
     "slide_type": "subslide"
    }
   },
   "outputs": [
    {
     "name": "stderr",
     "output_type": "stream",
     "text": [
      "ic| 1\n",
      "ic| 3\n"
     ]
    },
    {
     "data": {
      "text/plain": [
       "3"
      ]
     },
     "execution_count": 15,
     "metadata": {},
     "output_type": "execute_result"
    }
   ],
   "source": [
    "ic(1)\n",
    "\n",
    "ic.disable()\n",
    "ic(2)\n",
    "\n",
    "ic.enable()\n",
    "ic(3)"
   ]
  },
  {
   "cell_type": "markdown",
   "metadata": {
    "slideshow": {
     "slide_type": "slide"
    }
   },
   "source": [
    "Some configuration options:"
   ]
  },
  {
   "cell_type": "code",
   "execution_count": 16,
   "metadata": {},
   "outputs": [
    {
     "name": "stderr",
     "output_type": "stream",
     "text": [
      "hello -> 'world'\n"
     ]
    },
    {
     "data": {
      "text/plain": [
       "'world'"
      ]
     },
     "execution_count": 16,
     "metadata": {},
     "output_type": "execute_result"
    }
   ],
   "source": [
    "ic.configureOutput(prefix='hello -> ')\n",
    "ic('world')"
   ]
  },
  {
   "cell_type": "code",
   "execution_count": 17,
   "metadata": {
    "slideshow": {
     "slide_type": "slide"
    }
   },
   "outputs": [
    {
     "name": "stderr",
     "output_type": "stream",
     "text": [
      "1625827628 |> 'world'\n"
     ]
    },
    {
     "data": {
      "text/plain": [
       "'world'"
      ]
     },
     "execution_count": 17,
     "metadata": {},
     "output_type": "execute_result"
    }
   ],
   "source": [
    "import time\n",
    "\n",
    "def unixTimestamp():\n",
    "    return '%i |> ' % int(time.time())\n",
    "\n",
    "ic.configureOutput(prefix=unixTimestamp)\n",
    "ic('world')"
   ]
  },
  {
   "cell_type": "code",
   "execution_count": 18,
   "metadata": {
    "slideshow": {
     "slide_type": "slide"
    }
   },
   "outputs": [
    {
     "name": "stderr",
     "output_type": "stream",
     "text": [
      "WARNING:root:1625827683 |> 'eep'\n"
     ]
    },
    {
     "data": {
      "text/plain": [
       "'eep'"
      ]
     },
     "execution_count": 18,
     "metadata": {},
     "output_type": "execute_result"
    }
   ],
   "source": [
    "import logging\n",
    "\n",
    "def warn(s):\n",
    "    logging.warning(s)\n",
    "    \n",
    "ic.configureOutput(outputFunction=warn)\n",
    "ic('eep')"
   ]
  },
  {
   "cell_type": "code",
   "execution_count": 19,
   "metadata": {
    "slideshow": {
     "slide_type": "slide"
    }
   },
   "outputs": [
    {
     "name": "stderr",
     "output_type": "stream",
     "text": [
      "WARNING:root:1625827715 |> <ipython-input-19-36944cd4c92b>:4 in foo()- 'str'\n"
     ]
    }
   ],
   "source": [
    "ic.configureOutput(includeContext=True)\n",
    "\n",
    "def foo():\n",
    "    ic('str')\n",
    "    \n",
    "foo()"
   ]
  },
  {
   "cell_type": "markdown",
   "metadata": {
    "slideshow": {
     "slide_type": "slide"
    }
   },
   "source": [
    "Delicious IceCream can be enjoyed in a multitude of other languages:\n",
    "\n",
    "- Dart: [icecream](https://github.com/HallerPatrick/icecream)\n",
    "- Rust: [icecream-rs](https://github.com/ericchang00/icecream-rs)\n",
    "- Node.js: [node-icecream](https://github.com/jmerle/node-icecream)\n",
    "- C++: [IceCream-Cpp](https://github.com/renatoGarcia/icecream-cpp)\n",
    "- C99: [icecream-c](https://github.com/chunqian/icecream-c)\n",
    "- PHP: [icecream-php](https://github.com/ntzm/icecream-php)\n",
    "- Go: [icecream-go](https://github.com/WAY29/icecream-go)\n",
    "- Ruby: [Ricecream](https://github.com/nodai2hITC/ricecream)\n",
    "- Java: [icecream-java](https://github.com/Akshay-Thakare/icecream-java)\n",
    "- R: [icecream](https://github.com/lewinfox/icecream)\n",
    "- Lua: [icecream-lua](https://github.com/wlingze/icecream-lua)"
   ]
  },
  {
   "cell_type": "code",
   "execution_count": null,
   "metadata": {},
   "outputs": [],
   "source": []
  }
 ],
 "metadata": {
  "kernelspec": {
   "display_name": "Python [conda env:icecream]",
   "language": "python",
   "name": "conda-env-icecream-py"
  },
  "language_info": {
   "codemirror_mode": {
    "name": "ipython",
    "version": 3
   },
   "file_extension": ".py",
   "mimetype": "text/x-python",
   "name": "python",
   "nbconvert_exporter": "python",
   "pygments_lexer": "ipython3",
   "version": "3.9.5"
  }
 },
 "nbformat": 4,
 "nbformat_minor": 4
}
